{
 "cells": [
  {
   "cell_type": "code",
   "execution_count": 2,
   "metadata": {},
   "outputs": [],
   "source": [
    "import time"
   ]
  },
  {
   "cell_type": "markdown",
   "metadata": {},
   "source": [
    "# Finding the nth Fibonacci number - Fib(n)"
   ]
  },
  {
   "cell_type": "code",
   "execution_count": 10,
   "metadata": {},
   "outputs": [],
   "source": [
    "def FibDyn(n,memo = {}):\n",
    "    if(n==2):\n",
    "        return(1)\n",
    "    if(n==1):\n",
    "        return(0)\n",
    "    if(n in memo):\n",
    "        return memo[n]\n",
    "    else:\n",
    "        memo[n] = FibDyn(n-1,memo)+FibDyn(n-2,memo)\n",
    "        return(memo[n])\n",
    "\n",
    "def FibStd(n):\n",
    "    if(n==2):\n",
    "        return(1)\n",
    "    if(n==1):\n",
    "        return(0)\n",
    "    return(FibStd(n-1)+FibStd(n-2))"
   ]
  },
  {
   "cell_type": "code",
   "execution_count": 14,
   "metadata": {},
   "outputs": [
    {
     "name": "stdout",
     "output_type": "stream",
     "text": [
      "30th Fibonacci number: 514229\n",
      "\n",
      "Execution time for FibStd():+1.3295\n",
      "Execution time for FibDyn():+0.0003\n",
      "\n"
     ]
    }
   ],
   "source": [
    "t1 = time.perf_counter()\n",
    "a = 30\n",
    "b,c = a+1, a+2\n",
    "FibStd(a)\n",
    "FibStd(b)\n",
    "FibStd(c)\n",
    "t2 = time.perf_counter()\n",
    "t_improv_1 = t2-t1\n",
    "\n",
    "t1 = time.perf_counter()\n",
    "print(\"{}th Fibonacci number: {}\\n\".format(a,FibDyn(a)))\n",
    "FibDyn(b),FibDyn(c)\n",
    "t2 = time.perf_counter()\n",
    "t_improv_2 = t2-t1\n",
    "print('Execution time for FibStd():{:+.4f}\\nExecution time for FibDyn():{:+.4f}\\n'.format(t_improv_1,t_improv_2))"
   ]
  },
  {
   "cell_type": "markdown",
   "metadata": {},
   "source": [
    "# GridTraveller "
   ]
  },
  {
   "cell_type": "code",
   "execution_count": 15,
   "metadata": {},
   "outputs": [],
   "source": [
    "def GridTravellerNaive(m,n):\n",
    "    if(m==0 or n==0):\n",
    "        return(0)\n",
    "    if(m==n==1):\n",
    "        return(1)\n",
    "    a = GridTravellerNaive(m-1,n)\n",
    "    b = GridTravellerNaive(m,n-1)\n",
    "    return(a+b)\n",
    "\n",
    "def GridTravellerMemo(m, n, memo = {}):\n",
    "    if(m==0 or n==0):\n",
    "        return(0)\n",
    "    if(m==n==1):\n",
    "        return(1)\n",
    "    if((m,n) in memo):\n",
    "        return(memo[(m,n)])\n",
    "    a = GridTravellerMemo(m-1,n)\n",
    "    b = GridTravellerMemo(m,n-1)\n",
    "    memo[(m,n)]=(a+b)\n",
    "    return(memo[(m,n)])"
   ]
  },
  {
   "cell_type": "code",
   "execution_count": 16,
   "metadata": {},
   "outputs": [
    {
     "name": "stdout",
     "output_type": "stream",
     "text": [
      "Number of traversable paths: 705432\n",
      "\n",
      "Execution time for GridTravellerNaive(): +0.8874\n",
      "Execution time for GridTravellerMemo():  +0.0004\n",
      "\n"
     ]
    }
   ],
   "source": [
    "a,b = 12,12\n",
    "\n",
    "t1 = time.perf_counter()\n",
    "GridTravellerNaive(a,b)\n",
    "t2 = time.perf_counter()\n",
    "t_improv_1 = t2-t1\n",
    "\n",
    "t1 = time.perf_counter()\n",
    "print(\"Number of traversable paths: {}\\n\".format(GridTravellerMemo(a,b)))\n",
    "t2 = time.perf_counter()\n",
    "t_improv_2 = t2-t1\n",
    "print('Execution time for GridTravellerNaive(): {:+.4f}\\nExecution time for GridTravellerMemo():  {:+.4f}\\n'.format(t_improv_1,t_improv_2))"
   ]
  },
  {
   "cell_type": "code",
   "execution_count": null,
   "metadata": {},
   "outputs": [],
   "source": []
  },
  {
   "cell_type": "code",
   "execution_count": null,
   "metadata": {},
   "outputs": [],
   "source": []
  }
 ],
 "metadata": {
  "kernelspec": {
   "display_name": "Python 3",
   "language": "python",
   "name": "python3"
  },
  "language_info": {
   "codemirror_mode": {
    "name": "ipython",
    "version": 3
   },
   "file_extension": ".py",
   "mimetype": "text/x-python",
   "name": "python",
   "nbconvert_exporter": "python",
   "pygments_lexer": "ipython3",
   "version": "3.8.6"
  }
 },
 "nbformat": 4,
 "nbformat_minor": 4
}
