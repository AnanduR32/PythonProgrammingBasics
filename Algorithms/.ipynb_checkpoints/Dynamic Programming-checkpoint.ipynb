{
 "cells": [
  {
   "cell_type": "code",
   "execution_count": 1,
   "metadata": {},
   "outputs": [],
   "source": [
    "import time"
   ]
  },
  {
   "cell_type": "markdown",
   "metadata": {},
   "source": [
    "# Finding the nth Fibonacci number - Fib(n)"
   ]
  },
  {
   "cell_type": "code",
   "execution_count": 2,
   "metadata": {},
   "outputs": [],
   "source": [
    "def FibDyn(n,memo = {}):\n",
    "    if(n==2):\n",
    "        return(1)\n",
    "    if(n==1):\n",
    "        return(0)\n",
    "    if(n in memo):\n",
    "        return memo[n]\n",
    "    else:\n",
    "        memo[n] = FibDyn(n-1,memo)+FibDyn(n-2,memo)\n",
    "        return(memo[n])\n",
    "\n",
    "def FibStd(n):\n",
    "    if(n==2):\n",
    "        return(1)\n",
    "    if(n==1):\n",
    "        return(0)\n",
    "    return(FibStd(n-1)+FibStd(n-2))"
   ]
  },
  {
   "cell_type": "code",
   "execution_count": 3,
   "metadata": {},
   "outputs": [
    {
     "name": "stdout",
     "output_type": "stream",
     "text": [
      "30th Fibonacci number: 514229\n",
      "\n",
      "Execution time for FibStd():+1.4250\n",
      "Execution time for FibDyn():+0.0003\n",
      "\n"
     ]
    }
   ],
   "source": [
    "t1 = time.perf_counter()\n",
    "a = 30\n",
    "b,c = a+1, a+2\n",
    "FibStd(a)\n",
    "FibStd(b)\n",
    "FibStd(c)\n",
    "t2 = time.perf_counter()\n",
    "t_improv_1 = t2-t1\n",
    "\n",
    "t1 = time.perf_counter()\n",
    "print(\"{}th Fibonacci number: {}\\n\".format(a,FibDyn(a)))\n",
    "FibDyn(b),FibDyn(c)\n",
    "t2 = time.perf_counter()\n",
    "t_improv_2 = t2-t1\n",
    "print('Execution time for FibStd():{:+.4f}\\nExecution time for FibDyn():{:+.4f}\\n'.format(t_improv_1,t_improv_2))"
   ]
  },
  {
   "cell_type": "markdown",
   "metadata": {},
   "source": [
    "# GridTraveller \n",
    "\n",
    "Available actions at time t - down or right only"
   ]
  },
  {
   "cell_type": "code",
   "execution_count": 4,
   "metadata": {},
   "outputs": [],
   "source": [
    "def GridTravellerNaive(a,b):\n",
    "    if(a==b==1):\n",
    "        return(1)\n",
    "    elif(a==0 or b==0):\n",
    "        return(0)\n",
    "    return(GridTravellerNaive(a-1,b)+GridTravellerNaive(a,b-1))\n",
    "\n",
    "def GridTravellerMemo(a,b,memo={}):\n",
    "    if(a==b==1):\n",
    "        return(1)\n",
    "    elif(a==0 or b==0):\n",
    "        return(0)\n",
    "    key = (a,b)\n",
    "    if(key in memo):\n",
    "        return(memo[key])\n",
    "    elif(key[::-1] in memo):\n",
    "        return(memo[key[::-1]])\n",
    "    memo[key] = GridTravellerMemo(a-1,b,memo)+GridTravellerMemo(a,b-1,memo)\n",
    "    return(memo[key])"
   ]
  },
  {
   "cell_type": "code",
   "execution_count": 5,
   "metadata": {},
   "outputs": [
    {
     "name": "stdout",
     "output_type": "stream",
     "text": [
      "Number of traversable paths: 705432\n",
      "\n",
      "Execution time for GridTravellerNaive(): +0.9481\n",
      "Execution time for GridTravellerMemo():  +0.0004\n",
      "\n"
     ]
    }
   ],
   "source": [
    "a,b = 12,12\n",
    "\n",
    "t1 = time.perf_counter()\n",
    "GridTravellerNaive(a,b)\n",
    "t2 = time.perf_counter()\n",
    "t_improv_1 = t2-t1\n",
    "\n",
    "t1 = time.perf_counter()\n",
    "print(\"Number of traversable paths: {}\\n\".format(GridTravellerMemo(a,b)))\n",
    "t2 = time.perf_counter()\n",
    "t_improv_2 = t2-t1\n",
    "print('Execution time for GridTravellerNaive(): {:+.4f}\\nExecution time for GridTravellerMemo():  {:+.4f}\\n'.format(t_improv_1,t_improv_2))"
   ]
  },
  {
   "cell_type": "markdown",
   "metadata": {},
   "source": [
    "# CanSum()"
   ]
  },
  {
   "cell_type": "code",
   "execution_count": 6,
   "metadata": {},
   "outputs": [],
   "source": [
    "def CanSumNaive(target, values):\n",
    "    if(target<0):\n",
    "        return(False)\n",
    "    if(target==0):\n",
    "        return(True)\n",
    "    for val in values:\n",
    "        new_target = target-val\n",
    "        if(CanSumNaive(new_target,values) == True):\n",
    "            return(True)\n",
    "    return(False)\n",
    "\n",
    "def CanSumMemo(target, values,memo={}):\n",
    "    if(target<0):\n",
    "        return(False)\n",
    "    if(target==0):\n",
    "        return(True)\n",
    "    if(target in memo):\n",
    "        return(memo[target])\n",
    "    for val in values:\n",
    "        new_target = target-val\n",
    "        res = CanSumMemo(new_target,values,memo)\n",
    "        memo[target] = res\n",
    "        if(res == True):\n",
    "            return(True)\n",
    "    return(False)"
   ]
  },
  {
   "cell_type": "code",
   "execution_count": 7,
   "metadata": {},
   "outputs": [
    {
     "name": "stdout",
     "output_type": "stream",
     "text": [
      "False\n",
      "Can sum to 220 using values [14, 7]?: False\n",
      "\n",
      "Execution times,\n",
      "Naive method: 2.6642\n",
      "Memoized method:0.0001\n",
      "\n"
     ]
    }
   ],
   "source": [
    "target,values = 220,[14,7]\n",
    "t1 = time.perf_counter()\n",
    "print(CanSumNaive(target,values))\n",
    "t2 = time.perf_counter()\n",
    "t_improv_1 = t2-t1\n",
    "\n",
    "t1 = time.perf_counter()\n",
    "print(\"Can sum to {} using values {}?: {}\\n\".format(target,values,CanSumMemo(target,values)))\n",
    "t2 = time.perf_counter()\n",
    "t_improv_2 = t2-t1\n",
    "print('Execution times,\\nNaive method: {:.4f}\\nMemoized method:{:.4f}\\n'.format(t_improv_1,t_improv_2))"
   ]
  },
  {
   "cell_type": "markdown",
   "metadata": {},
   "source": [
    "# howSum()\n",
    "\n",
    "Return one possible combination of obtaining the desired target sum"
   ]
  },
  {
   "cell_type": "code",
   "execution_count": 8,
   "metadata": {},
   "outputs": [],
   "source": [
    "def howSumNaive(target, values):\n",
    "    if(target<0):\n",
    "        return(None)\n",
    "    if(target==0):\n",
    "        return([])\n",
    "    for val in values:\n",
    "        new_target = target-val\n",
    "        res = howSumNaive(new_target,values)\n",
    "        if(res!=None):\n",
    "            return(res+[val])            \n",
    "    return(None)\n",
    "\n",
    "def howSumMemo(target, values,memo = {}):\n",
    "    if(target<0):\n",
    "        return(None)\n",
    "    if(target==0):\n",
    "        return([])\n",
    "    if(target in memo):\n",
    "        return(memo[target])\n",
    "    for val in values:\n",
    "        new_target = target-val\n",
    "        res = howSumMemo(new_target,values,memo)\n",
    "        if(res!=None):\n",
    "            memo[target] = res + [val]\n",
    "            return(memo[new_target]) \n",
    "    memo[target] = None\n",
    "    return(None)"
   ]
  },
  {
   "cell_type": "code",
   "execution_count": 9,
   "metadata": {},
   "outputs": [
    {
     "name": "stdout",
     "output_type": "stream",
     "text": [
      "Possible permutation of [14, 7] that generates the sum 220: None\n",
      "\n",
      "Execution times,\n",
      "Naive method: 2.7740\n",
      "Memoized method:0.0008\n",
      "\n"
     ]
    }
   ],
   "source": [
    "target,values = 220,[14,7]\n",
    "t1 = time.perf_counter()\n",
    "howSumNaive(target,values)\n",
    "t2 = time.perf_counter()\n",
    "t_improv_1 = t2-t1\n",
    "\n",
    "t1 = time.perf_counter()\n",
    "print(\"Possible permutation of {} that generates the sum {}: {}\\n\".format(values,target,howSumMemo(target,values)))\n",
    "t2 = time.perf_counter()\n",
    "t_improv_2 = t2-t1\n",
    "print('Execution times,\\nNaive method: {:.4f}\\nMemoized method:{:.4f}\\n'.format(t_improv_1,t_improv_2))"
   ]
  },
  {
   "cell_type": "markdown",
   "metadata": {},
   "source": [
    "# bestSum()\n",
    "\n",
    "Shortest combination of values that sum upto the target sum"
   ]
  },
  {
   "cell_type": "code",
   "execution_count": 10,
   "metadata": {},
   "outputs": [],
   "source": [
    "def bestSumNaive(target, values):\n",
    "    if(target==0):\n",
    "        return([])\n",
    "    if(target<0):\n",
    "        return(None)\n",
    "    min_arr = None\n",
    "    for val in values:\n",
    "        new_target = target - val\n",
    "        res = bestSumNaive(new_target, values)\n",
    "        if(res != None):\n",
    "            arr = res+[val]\n",
    "            if(min_arr == None or len(arr)<len(min_arr)):\n",
    "                min_arr = arr\n",
    "    return(min_arr)\n",
    "\n",
    "def bestSumMemo(target, values, memo = {}):\n",
    "    if(target==0):\n",
    "        return([])\n",
    "    if(target<0):\n",
    "        return(None)\n",
    "    if(target in memo):\n",
    "        return(memo[target])\n",
    "    min_arr = None\n",
    "    for val in values:\n",
    "        new_target = target - val\n",
    "        res = bestSumMemo(new_target, values)\n",
    "        if(res != None):\n",
    "            arr = res+[val]\n",
    "            if(min_arr == None or len(arr)<len(min_arr)):\n",
    "                min_arr = arr\n",
    "    memo[target] = min_arr\n",
    "    return(min_arr)"
   ]
  },
  {
   "cell_type": "code",
   "execution_count": 11,
   "metadata": {},
   "outputs": [
    {
     "name": "stdout",
     "output_type": "stream",
     "text": [
      "Best possible permutation of [14, 7] that generates the sum 220: None\n",
      "\n",
      "Execution times,\n",
      "Naive method: 3.0940\n",
      "Memoized method:0.0003\n",
      "\n"
     ]
    }
   ],
   "source": [
    "target,values = 220,[14,7]\n",
    "t1 = time.perf_counter()\n",
    "bestSumNaive(target,values)\n",
    "t2 = time.perf_counter()\n",
    "t_improv_1 = t2-t1\n",
    "\n",
    "t1 = time.perf_counter()\n",
    "print(\"Best possible permutation of {} that generates the sum {}: {}\\n\".format(values,target,bestSumMemo(target,values)))\n",
    "t2 = time.perf_counter()\n",
    "t_improv_2 = t2-t1\n",
    "print('Execution times,\\nNaive method: {:.4f}\\nMemoized method:{:.4f}\\n'.format(t_improv_1,t_improv_2))"
   ]
  },
  {
   "cell_type": "markdown",
   "metadata": {},
   "source": [
    "# canConstruct()\n",
    "\n",
    "Check if a target sentence can be constructed from a workbank"
   ]
  },
  {
   "cell_type": "code",
   "execution_count": 12,
   "metadata": {},
   "outputs": [],
   "source": [
    "def canConstructNaive(target, wordBank):\n",
    "    if(target==''):\n",
    "        return(True)\n",
    "    for word in wordBank:\n",
    "        try:\n",
    "            if(target.index(word)==0):\n",
    "                suffix = target[len(word):]\n",
    "                if(canConstructNaive(suffix, wordBank)==True):\n",
    "                    return(True)\n",
    "        except:\n",
    "            pass\n",
    "    return(False)\n",
    "\n",
    "def canConstructMemo(target, wordBank,memo = {}):\n",
    "    if(target==''):\n",
    "        return(True)\n",
    "    if(target in memo):\n",
    "        return(memo[target])\n",
    "    for word in wordBank:\n",
    "        try:\n",
    "            if(target.index(word)==0):\n",
    "                suffix = target[len(word):]\n",
    "                if(canConstructNaive(suffix, wordBank, memo)==True):\n",
    "                    return(True)\n",
    "        except:\n",
    "            pass\n",
    "    return(False)"
   ]
  },
  {
   "cell_type": "code",
   "execution_count": 13,
   "metadata": {},
   "outputs": [
    {
     "name": "stdout",
     "output_type": "stream",
     "text": [
      "Whether the word-bank ['e', 'ee', 'eee', 'eeee', 'eeeee', 'eeeeee'] generates the string eeeeeeeeeeeeeeeeeeef: False\n",
      "\n",
      "Execution times,\n",
      "Naive method: 1.3682\n",
      "Memoized method:0.0003\n",
      "\n"
     ]
    }
   ],
   "source": [
    "target,wordBank = \"eeeeeeeeeeeeeeeeeeef\", ['e','ee','eee','eeee','eeeee','eeeeee']\n",
    "t1 = time.perf_counter()\n",
    "canConstructNaive(target, wordBank)\n",
    "t2 = time.perf_counter()\n",
    "t_improv_1 = t2-t1\n",
    "\n",
    "t1 = time.perf_counter()\n",
    "print(\"Whether the word-bank {} generates the string {}: {}\\n\".format(wordBank,target,canConstructMemo(target,values)))\n",
    "t2 = time.perf_counter()\n",
    "t_improv_2 = t2-t1\n",
    "print('Execution times,\\nNaive method: {:.4f}\\nMemoized method:{:.4f}\\n'.format(t_improv_1,t_improv_2))"
   ]
  },
  {
   "cell_type": "code",
   "execution_count": null,
   "metadata": {},
   "outputs": [],
   "source": []
  }
 ],
 "metadata": {
  "kernelspec": {
   "display_name": "Python 3",
   "language": "python",
   "name": "python3"
  },
  "language_info": {
   "codemirror_mode": {
    "name": "ipython",
    "version": 3
   },
   "file_extension": ".py",
   "mimetype": "text/x-python",
   "name": "python",
   "nbconvert_exporter": "python",
   "pygments_lexer": "ipython3",
   "version": "3.8.6"
  }
 },
 "nbformat": 4,
 "nbformat_minor": 4
}
