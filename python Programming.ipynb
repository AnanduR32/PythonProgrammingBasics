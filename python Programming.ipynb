{
 "cells": [
  {
   "cell_type": "markdown",
   "metadata": {},
   "source": [
    "# Basics "
   ]
  },
  {
   "cell_type": "markdown",
   "metadata": {},
   "source": [
    "* Display the number of vowels in the string entered by user"
   ]
  },
  {
   "cell_type": "code",
   "execution_count": null,
   "metadata": {},
   "outputs": [],
   "source": [
    "string=str(input(\"Enter the string sentence\"))\n",
    "counter=0\n",
    "for i in string:\n",
    "\tif(i=='a')or (i=='e')or(i=='o')or(i=='u')or(i=='i'):\n",
    "\t\tcounter+=1\n",
    "print(counter,\"Is the number of vowels in the sentence\")"
   ]
  },
  {
   "cell_type": "markdown",
   "metadata": {},
   "source": [
    "## Find the area of any given shape "
   ]
  },
  {
   "cell_type": "code",
   "execution_count": null,
   "metadata": {},
   "outputs": [],
   "source": [
    "import math\n",
    "def mul(a,b):\n",
    "\treturn a*b\n",
    "def circle(a):\n",
    "\treturn math.pi*a**2\n",
    "print(\"\"\"\\nEnter your choice(1-4):\n",
    "\t  \n",
    "\t   1.Finding the area of a square\n",
    "\t   2.Finding the area of a rectangle\n",
    "\t   3.Finding the area of a triangle\n",
    "\t   4.Finding the area of a circle \"\"\")\n",
    "choice=int(input())\n",
    "if(choice>=1)and(choice<=3):\n",
    "\ta=float(input(\"Enter the length/height \"))\n",
    "\tb=float(input(\"Enter the breadth \"))\n",
    "\tprint(\"\\nThe area is \",end='')\n",
    "\tif(choice==1)or(choice==2):\n",
    "\t\tprint (mul(a,b))\n",
    "\telif(choice==3):\n",
    "\t\tprint (mul(a,b)/2)\n",
    "elif(choice==4):  \n",
    "\ta=float(input(\"Enter the radius of the circle \"))\n",
    "\tprint(\"\\nThe area is \",end='')\n",
    "\tprint (circle(a))\n",
    "else:\n",
    "\tprint(\"Invalid choice\")\n",
    "    "
   ]
  },
  {
   "cell_type": "markdown",
   "metadata": {},
   "source": [
    "## Calculator (CUI) Application "
   ]
  },
  {
   "cell_type": "code",
   "execution_count": null,
   "metadata": {},
   "outputs": [],
   "source": [
    "class Calculator:\n",
    "    def readValue(key):\n",
    "        choice=input(\"\"\"Enter your choice\n",
    "Whether you wish to perform addition, subtraction, division or multiplication?..\n",
    "\n",
    "     The Choice is yours : \"\"\")\n",
    "        valueA=input(\"\\nEnter value A: \")\n",
    "        valueB=input(\"Enter value B: \")\n",
    "        key.valueA=valueA\n",
    "        key.valueB=valueB\n",
    "        key.choice=choice\n",
    "    def performFunc(key):        \n",
    "        if(key.choice=='add')or(key.choice=='+')or(key.choice=='sum')or(key.choice=='plus'):\n",
    "            result=key.addition(int(key.valueA),int(key.valueB))\n",
    "        if(key.choice=='sub')or(key.choice=='-')or(key.choice=='minus'):\n",
    "            result=key.subtraction(int(key.valueA),int(key.valueB))\n",
    "        if(key.choice=='mul')or(key.choice=='*')or(key.choice=='product')or(key.choice=='x'):\n",
    "            result=key.multiplication(int(key.valueA),int(key.valueB))\n",
    "        if(key.choice=='div')or(key.choice=='/'):\n",
    "            result=key.division(int(key.valueA),int(key.valueB))\n",
    "        key.result=result\n",
    "    def addition(key,a,b):\n",
    "        return a+b\n",
    "    def multiplication(key,a,b):\n",
    "        return a*b\n",
    "    def subtraction(key,a,b):\n",
    "        return a-b\n",
    "    def division(key,a,b):\n",
    "        return a/b\n",
    "    def output(key):\n",
    "        print(\"Output of function is \",key.result)\n",
    "calc=Calculator()\n",
    "calc.readValue()\n",
    "calc.performFunc()\n",
    "calc.output()"
   ]
  },
  {
   "cell_type": "markdown",
   "metadata": {},
   "source": [
    "## Basic Calculator "
   ]
  },
  {
   "cell_type": "code",
   "execution_count": null,
   "metadata": {},
   "outputs": [],
   "source": [
    "def add(a,b):\n",
    "\treturn float(a+b)\n",
    "def sub(a,b):\n",
    "\treturn float(a-b)\n",
    "def mul(a,b):\n",
    "\treturn float(a*b)\n",
    "def div(a,b):\n",
    "\treturn float(a/b)\n",
    "a=0;b=0;\n",
    "print(\"\"\"Enter you choice(1-4)\n",
    "\t\t\n",
    "\t   1.Addition of two numbers\n",
    "\t   2.Subtration of second number from first\n",
    "\t   3.Multiplication of two numbers\n",
    "\t   4.Divion of first number from the second\n",
    "\t\n",
    "\tEnter your choice : \"\"\")\n",
    "choice=int(input())\n",
    "if(choice<=4)and(choice>=1):\n",
    "\ta=float(input(\"Enter the first number: \"))\n",
    "\tb=float(input(\"Enter the second number: \"))\n",
    "\tif(choice==1):\n",
    "\t\tprint(\"The sum is \",add(a,b))\n",
    "\telif(choice==2):\n",
    "\t\tprint(\"The subtraction result is \",sub(a,b))\n",
    "\telif(choice==3):\n",
    "\t\tprint(\"The multiplication result is \",mul(a,b))\n",
    "\telif(choice==4):\n",
    "\t\tprint(\"The division result is \",div(a,b))\n",
    "else:\n",
    "\tprint(\"Invalid Entry\")\n",
    "\n"
   ]
  },
  {
   "cell_type": "markdown",
   "metadata": {},
   "source": [
    "## Student Semester Data Entry "
   ]
  },
  {
   "cell_type": "code",
   "execution_count": null,
   "metadata": {},
   "outputs": [],
   "source": [
    "import pickle \n",
    "class StudenT:\n",
    "    def getdata(student):\n",
    "        student.name=str(input(\"Enter the name of student: \"))\n",
    "        student.age=int(input(\"Enter the age of student: \"))\n",
    "        student.regno=str(input(\"Enter the registration number of student: \"))\n",
    "        student.markA=float(input(\"Enter the marks scored by him/her for Series 1 internal exam: \"))\n",
    "        student.markB=float(input(\"Enter the marks scored by him/her for series 2 internal exam: \"))\n",
    "        student.assgnmentA=float(input(\"Enter the marks scored for first assignment: \"))\n",
    "        student.assgnmentB=float(input(\"Enter the marks scored for second assignment: \"))\n",
    "        student.assgnmentC=float(input(\"Enter the marks scored for third assignment: \"))\n",
    "        student.morale=str(input(\"Enter morale level of the student on scale of (0-10): \"))\n",
    "    def calc(student):\n",
    "        student.mark=student.markA+student.markB\n",
    "        student.assgnment=(student.assgnmentA+student.assgnmentB+student.assgnmentC)/3\n",
    "        student.Mark=student.mark+student.assgnment\n",
    "    def display(student):\n",
    "        print(\"\\n\\tDisplaying details of Student\")\n",
    "        print(\"--------------------------------------------------------------------------\")    \n",
    "        print(\"\\t\\tStudent's name                : \",student.name)\n",
    "        print(\"\\t\\tStudent's age                 : \",student.age)\n",
    "        print(\"\\t\\tStudent's registration number : \",student.regno)\n",
    "        print(\"\\t\\tStudent's Final Sessional mark: \",student.Mark)\n",
    "        print(\"--------------------------------------------------------------------------\")    \n",
    "        \n",
    "\n",
    "class MyClass:\n",
    "    def getdata(RollNo):\n",
    "        rollN=int(input(\"Enter the total number of students in class\"))\n",
    "        RollNo.roll={};listA=[]\n",
    "        for key in range(1,rollN+1):\n",
    "            RollNo.key=key\n",
    "            print(\"Enter details of student who has been assigned the roll number: \",key)\n",
    "            Student.getdata()\n",
    "            Student.calc()\n",
    "            listA=[Student.name,Student.Mark]\n",
    "            RollNo.roll[key]=listA\n",
    "    def Save(RollNo):\n",
    "        try :\n",
    "            f=open(\"C:\\Users\\ar32\\Documents\\github\\StudentDetailsSessional.xlsx\",\"wb\")\n",
    "        except(FileNotFoundError, IOError):\n",
    "            print(\"Wrong file or file path\")\n",
    "            \n",
    "        pickle.dump(RollNo.roll,f)\n",
    "        f.close()\n",
    "classA=Class()\n",
    "classA.getdata()\n",
    "classA.Save()\n",
    "Student.display()"
   ]
  },
  {
   "cell_type": "code",
   "execution_count": null,
   "metadata": {},
   "outputs": [],
   "source": []
  }
 ],
 "metadata": {
  "kernelspec": {
   "display_name": "Python 3",
   "language": "python",
   "name": "python3"
  },
  "language_info": {
   "codemirror_mode": {
    "name": "ipython",
    "version": 3
   },
   "file_extension": ".py",
   "mimetype": "text/x-python",
   "name": "python",
   "nbconvert_exporter": "python",
   "pygments_lexer": "ipython3",
   "version": "3.7.3"
  }
 },
 "nbformat": 4,
 "nbformat_minor": 2
}
